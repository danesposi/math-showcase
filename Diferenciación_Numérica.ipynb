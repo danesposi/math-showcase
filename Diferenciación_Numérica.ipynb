{
  "nbformat": 4,
  "nbformat_minor": 0,
  "metadata": {
    "colab": {
      "provenance": []
    },
    "kernelspec": {
      "name": "python3",
      "display_name": "Python 3"
    },
    "language_info": {
      "name": "python"
    }
  },
  "cells": [
    {
      "cell_type": "code",
      "metadata": {
        "id": "wEbhjyXmSpDP"
      },
      "source": [
        "import numpy as np\n",
        "import pandas as pd"
      ],
      "execution_count": 1,
      "outputs": []
    },
    {
      "cell_type": "code",
      "metadata": {
        "id": "MDBxUdJkPLeM"
      },
      "source": [
        "f_a = lambda x: np.exp(x) # Función\n",
        "x = 2.3 # Valor x a ser evaluado por la función\n",
        "f_a_prime = f_a # Derivada de función exponencial"
      ],
      "execution_count": 2,
      "outputs": []
    },
    {
      "cell_type": "markdown",
      "metadata": {
        "id": "ii1WFoXMkaWM"
      },
      "source": [
        "Función:$f(x) = e^x$\n",
        "\n",
        "Primera Derivada: $f'(x) = e^x$\n",
        "\n",
        "Segunda Derivada: $f''(x) = e^x$"
      ]
    },
    {
      "cell_type": "markdown",
      "metadata": {
        "id": "zp2VNlUwfrpe"
      },
      "source": [
        "## Diferenciación Numérica"
      ]
    },
    {
      "cell_type": "markdown",
      "metadata": {
        "id": "Pv_8XlDy1I_5"
      },
      "source": [
        "### Teoría"
      ]
    },
    {
      "cell_type": "markdown",
      "metadata": {
        "id": "5S3Pl9xs1SqH"
      },
      "source": [
        "Afirma José de la Fuente (2017) que \"Para calcular numéricamente la derivada de $f: \\mathbb{R} \\rightarrow \\mathbb{R}$ se puede considerar como una aproximación intuitiva desde su definición,\n",
        "\n",
        "$f'(x) = \\frac{df(x)}{dx} = \\lim_{h\\to0} \\frac{f(x) - f(x + h)}{h} \\approx \\frac{f(x) - f(x + h)}{h}$\n",
        "\n",
        "es decir, la línea secante (o cuerda) en dos puntos próximos.\n",
        "\n",
        "Consideremos el desarrollo en series de Taylor de $f(x)$\n",
        "\n",
        "Si despejamos de la primera igualdad de la serie $f'(x)$ Obtenemos la fórmula de diferencia **hacia adelante**, que se trata de estimar la inclinación de la función en el punto $x_j$, usando la linea que conecta $(x_j, f(x_j))$ y $(x_{j+1}, f(x_{j+1}))$: $f'(x_j) = \\frac{f(x_{j+1}) - f(x_j))}{h}$\"\n",
        "\n",
        "Si despejamos la segunda igualdad llegamos a la fórmula de diferencia **hacia atrás**: $f'(x_j) = \\frac{f(x_j) - f(x_{j-1}))}{h}$\n",
        "\n",
        "restando las dos últimas igualdades llegamos a la fórmula de diferencia **centrada**:  $f'(x_j) = \\frac{f(x_{j+1}) - f(x_{j-1}))}{2h}$ \""
      ]
    },
    {
      "cell_type": "markdown",
      "metadata": {
        "id": "oNai3SchFMTD"
      },
      "source": [
        "### Código"
      ]
    },
    {
      "cell_type": "code",
      "metadata": {
        "id": "i2iu0HyugHVW"
      },
      "source": [
        "# Función para computar diferenciación en los tres diferentes métodos.\n",
        "# Como primer argumento \"f\" se espera una función; \"f_prime\" la derivada de dicha función; \"h\" el tamaño de paso y \"metodo\" el método a seleccionar,\n",
        "# siendo el método \"adelante\" por defecto.\n",
        "def computar_diferenciacion(f, f_prime, h, orden=\"primer orden\", metodo=\"adelante\"):\n",
        "    # Obtener valor de función evaluada en el punto x que corresponde a 2.3. Es decir np.exp(2.3)\n",
        "    y = f(x)\n",
        "    # Crear diccionario clave-valor para acceder a cualquiera de los tres métodos, siendo la primera clave el orden, la segunda el nombre del método y el valor el método propiamente.\n",
        "    d = {\n",
        "        \"primer orden\":{\n",
        "            \"adelante\":(f(x + h) - f(x))/h, # Método hacia adelante de diferenciación primer orden \n",
        "            \"atras\":(f(x) - f(x - h))/h, # Método hacia atrás de diferenciación primer orden\n",
        "            \"central\":(f(x + h) - f(x - h))/(2*h) # Método central de diferenciación primer orden\n",
        "            },\n",
        "        \"segundo orden\":{\n",
        "            \"adelante\": (f(x+(2*h)) - (2*f(x+h)) + f(x)) / h**2, # Método hacia adelante de diferenciación segundo orden\n",
        "            \"atras\": (f(x) - (2*f(x-h)) + f(x-(2*h))) / h**2, # Método hacia atrás de diferenciación segundo orden\n",
        "            \"central\":(f(x+h) - (2*f(x)) + f(x-h)) / h**2 # Método central de diferenciación segundo orden\n",
        "        }\n",
        "    }\n",
        "\n",
        "    # obtener resultados del método seleccionado, accediendo al diccionario con el parámetro \"metodo\" de la función\n",
        "    metodo_diff = d[orden][metodo]\n",
        "    # calcular solución exacta\n",
        "    solucion_exacta = f_prime(x)\n",
        "    # retornar el error absoluto, que es la diferencia absoluta entre la solución exacta y el método seleccionado\n",
        "    return abs(solucion_exacta - metodo_diff)\n",
        "\n",
        "# Función para automatizar creación de tabla comparativa.\n",
        "# Argumento \"orden\" para especificar orden de diferenciación. \"primer orden\" por defecto.\n",
        "def crear_tabla_comparativa(orden=\"primer orden\"):\n",
        "    # Declarar lista con diferentes \"hs\" o tamaños de paso.\n",
        "    h_s = [0.5, 0.1, 0.05]\n",
        "    # Declarar lista con diferentes métodos de diferenciación.\n",
        "    metodos = [\"adelante\", \"atras\", \"central\"]\n",
        "    # Declarar tabla de pandas para visualizar resultados.\n",
        "    df = pd.DataFrame()\n",
        "\n",
        "    # Para cada método de la lista \"metodos\", declarar lista de errores para cada tamaño de paso.\n",
        "    for metodo in metodos:\n",
        "        errores = []\n",
        "        # Declarar total de errores\n",
        "        errores_totales = 0\n",
        "        # Para cada \"h\" o tamaño de paso de la lista \"h_s\"\n",
        "        for h in h_s:\n",
        "            # Llamar función de Python creada anteriormente, con el respectivo método y tamaño de paso sobre el cual se itera.\n",
        "            error = computar_diferenciacion(f_a, f_a_prime, h, orden, metodo)\n",
        "            # Insertar errores en lista de \"errores\"\n",
        "            errores.append(error)\n",
        "            # Añadir sucesivamente errores para dicho método en diferentes tamaños de paso\n",
        "            errores_totales += error\n",
        "        # Insertar errores totales\n",
        "        errores.append(errores_totales)\n",
        "        df[metodo] = errores\n",
        "        # añadir errores a tabla de pandas, siendo la columna el método sobre el cual se itera y la fila el tamaño de paso\n",
        "    h_s.append(\"Total_error\")\n",
        "    # colocar como índice los valores de h para la tabla\n",
        "    df[\"h\"] = h_s\n",
        "    df = df.set_index(\"h\")\n",
        "    return df"
      ],
      "execution_count": 3,
      "outputs": []
    },
    {
      "cell_type": "code",
      "metadata": {
        "colab": {
          "base_uri": "https://localhost:8080/",
          "height": 206
        },
        "id": "vAU8irFNcYeb",
        "outputId": "c21131fb-3211-4860-e97b-9dc00cea19eb"
      },
      "source": [
        "crear_tabla_comparativa(orden=\"primer orden\")"
      ],
      "execution_count": 4,
      "outputs": [
        {
          "output_type": "execute_result",
          "data": {
            "text/plain": [
              "             adelante     atras   central\n",
              "h                                        \n",
              "0.5          2.966746  2.125112  0.420817\n",
              "0.1          0.515757  0.482493  0.016632\n",
              "0.05         0.253563  0.245250  0.004156\n",
              "Total_error  3.736066  2.852855  0.441605"
            ],
            "text/html": [
              "\n",
              "  <div id=\"df-8cf5bd7e-7d7d-4c06-ac08-ec317a586163\">\n",
              "    <div class=\"colab-df-container\">\n",
              "      <div>\n",
              "<style scoped>\n",
              "    .dataframe tbody tr th:only-of-type {\n",
              "        vertical-align: middle;\n",
              "    }\n",
              "\n",
              "    .dataframe tbody tr th {\n",
              "        vertical-align: top;\n",
              "    }\n",
              "\n",
              "    .dataframe thead th {\n",
              "        text-align: right;\n",
              "    }\n",
              "</style>\n",
              "<table border=\"1\" class=\"dataframe\">\n",
              "  <thead>\n",
              "    <tr style=\"text-align: right;\">\n",
              "      <th></th>\n",
              "      <th>adelante</th>\n",
              "      <th>atras</th>\n",
              "      <th>central</th>\n",
              "    </tr>\n",
              "    <tr>\n",
              "      <th>h</th>\n",
              "      <th></th>\n",
              "      <th></th>\n",
              "      <th></th>\n",
              "    </tr>\n",
              "  </thead>\n",
              "  <tbody>\n",
              "    <tr>\n",
              "      <th>0.5</th>\n",
              "      <td>2.966746</td>\n",
              "      <td>2.125112</td>\n",
              "      <td>0.420817</td>\n",
              "    </tr>\n",
              "    <tr>\n",
              "      <th>0.1</th>\n",
              "      <td>0.515757</td>\n",
              "      <td>0.482493</td>\n",
              "      <td>0.016632</td>\n",
              "    </tr>\n",
              "    <tr>\n",
              "      <th>0.05</th>\n",
              "      <td>0.253563</td>\n",
              "      <td>0.245250</td>\n",
              "      <td>0.004156</td>\n",
              "    </tr>\n",
              "    <tr>\n",
              "      <th>Total_error</th>\n",
              "      <td>3.736066</td>\n",
              "      <td>2.852855</td>\n",
              "      <td>0.441605</td>\n",
              "    </tr>\n",
              "  </tbody>\n",
              "</table>\n",
              "</div>\n",
              "      <button class=\"colab-df-convert\" onclick=\"convertToInteractive('df-8cf5bd7e-7d7d-4c06-ac08-ec317a586163')\"\n",
              "              title=\"Convert this dataframe to an interactive table.\"\n",
              "              style=\"display:none;\">\n",
              "        \n",
              "  <svg xmlns=\"http://www.w3.org/2000/svg\" height=\"24px\"viewBox=\"0 0 24 24\"\n",
              "       width=\"24px\">\n",
              "    <path d=\"M0 0h24v24H0V0z\" fill=\"none\"/>\n",
              "    <path d=\"M18.56 5.44l.94 2.06.94-2.06 2.06-.94-2.06-.94-.94-2.06-.94 2.06-2.06.94zm-11 1L8.5 8.5l.94-2.06 2.06-.94-2.06-.94L8.5 2.5l-.94 2.06-2.06.94zm10 10l.94 2.06.94-2.06 2.06-.94-2.06-.94-.94-2.06-.94 2.06-2.06.94z\"/><path d=\"M17.41 7.96l-1.37-1.37c-.4-.4-.92-.59-1.43-.59-.52 0-1.04.2-1.43.59L10.3 9.45l-7.72 7.72c-.78.78-.78 2.05 0 2.83L4 21.41c.39.39.9.59 1.41.59.51 0 1.02-.2 1.41-.59l7.78-7.78 2.81-2.81c.8-.78.8-2.07 0-2.86zM5.41 20L4 18.59l7.72-7.72 1.47 1.35L5.41 20z\"/>\n",
              "  </svg>\n",
              "      </button>\n",
              "      \n",
              "  <style>\n",
              "    .colab-df-container {\n",
              "      display:flex;\n",
              "      flex-wrap:wrap;\n",
              "      gap: 12px;\n",
              "    }\n",
              "\n",
              "    .colab-df-convert {\n",
              "      background-color: #E8F0FE;\n",
              "      border: none;\n",
              "      border-radius: 50%;\n",
              "      cursor: pointer;\n",
              "      display: none;\n",
              "      fill: #1967D2;\n",
              "      height: 32px;\n",
              "      padding: 0 0 0 0;\n",
              "      width: 32px;\n",
              "    }\n",
              "\n",
              "    .colab-df-convert:hover {\n",
              "      background-color: #E2EBFA;\n",
              "      box-shadow: 0px 1px 2px rgba(60, 64, 67, 0.3), 0px 1px 3px 1px rgba(60, 64, 67, 0.15);\n",
              "      fill: #174EA6;\n",
              "    }\n",
              "\n",
              "    [theme=dark] .colab-df-convert {\n",
              "      background-color: #3B4455;\n",
              "      fill: #D2E3FC;\n",
              "    }\n",
              "\n",
              "    [theme=dark] .colab-df-convert:hover {\n",
              "      background-color: #434B5C;\n",
              "      box-shadow: 0px 1px 3px 1px rgba(0, 0, 0, 0.15);\n",
              "      filter: drop-shadow(0px 1px 2px rgba(0, 0, 0, 0.3));\n",
              "      fill: #FFFFFF;\n",
              "    }\n",
              "  </style>\n",
              "\n",
              "      <script>\n",
              "        const buttonEl =\n",
              "          document.querySelector('#df-8cf5bd7e-7d7d-4c06-ac08-ec317a586163 button.colab-df-convert');\n",
              "        buttonEl.style.display =\n",
              "          google.colab.kernel.accessAllowed ? 'block' : 'none';\n",
              "\n",
              "        async function convertToInteractive(key) {\n",
              "          const element = document.querySelector('#df-8cf5bd7e-7d7d-4c06-ac08-ec317a586163');\n",
              "          const dataTable =\n",
              "            await google.colab.kernel.invokeFunction('convertToInteractive',\n",
              "                                                     [key], {});\n",
              "          if (!dataTable) return;\n",
              "\n",
              "          const docLinkHtml = 'Like what you see? Visit the ' +\n",
              "            '<a target=\"_blank\" href=https://colab.research.google.com/notebooks/data_table.ipynb>data table notebook</a>'\n",
              "            + ' to learn more about interactive tables.';\n",
              "          element.innerHTML = '';\n",
              "          dataTable['output_type'] = 'display_data';\n",
              "          await google.colab.output.renderOutput(dataTable, element);\n",
              "          const docLink = document.createElement('div');\n",
              "          docLink.innerHTML = docLinkHtml;\n",
              "          element.appendChild(docLink);\n",
              "        }\n",
              "      </script>\n",
              "    </div>\n",
              "  </div>\n",
              "  "
            ]
          },
          "metadata": {},
          "execution_count": 4
        }
      ]
    },
    {
      "cell_type": "code",
      "metadata": {
        "colab": {
          "base_uri": "https://localhost:8080/",
          "height": 206
        },
        "id": "wPGvcwM9sq4Y",
        "outputId": "c6061357-ae20-4513-8f23-b3e3332a39b5"
      },
      "source": [
        "crear_tabla_comparativa(orden=\"segundo orden\")"
      ],
      "execution_count": 5,
      "outputs": [
        {
          "output_type": "execute_result",
          "data": {
            "text/plain": [
              "             adelante     atras   central\n",
              "h                                        \n",
              "0.5          6.815929  3.797446  0.209535\n",
              "0.1          1.058183  0.941646  0.008315\n",
              "0.05         0.513572  0.484470  0.002078\n",
              "Total_error  8.387684  5.223561  0.219928"
            ],
            "text/html": [
              "\n",
              "  <div id=\"df-6297c52b-0b50-4ddf-a3e6-7705f4d5d622\">\n",
              "    <div class=\"colab-df-container\">\n",
              "      <div>\n",
              "<style scoped>\n",
              "    .dataframe tbody tr th:only-of-type {\n",
              "        vertical-align: middle;\n",
              "    }\n",
              "\n",
              "    .dataframe tbody tr th {\n",
              "        vertical-align: top;\n",
              "    }\n",
              "\n",
              "    .dataframe thead th {\n",
              "        text-align: right;\n",
              "    }\n",
              "</style>\n",
              "<table border=\"1\" class=\"dataframe\">\n",
              "  <thead>\n",
              "    <tr style=\"text-align: right;\">\n",
              "      <th></th>\n",
              "      <th>adelante</th>\n",
              "      <th>atras</th>\n",
              "      <th>central</th>\n",
              "    </tr>\n",
              "    <tr>\n",
              "      <th>h</th>\n",
              "      <th></th>\n",
              "      <th></th>\n",
              "      <th></th>\n",
              "    </tr>\n",
              "  </thead>\n",
              "  <tbody>\n",
              "    <tr>\n",
              "      <th>0.5</th>\n",
              "      <td>6.815929</td>\n",
              "      <td>3.797446</td>\n",
              "      <td>0.209535</td>\n",
              "    </tr>\n",
              "    <tr>\n",
              "      <th>0.1</th>\n",
              "      <td>1.058183</td>\n",
              "      <td>0.941646</td>\n",
              "      <td>0.008315</td>\n",
              "    </tr>\n",
              "    <tr>\n",
              "      <th>0.05</th>\n",
              "      <td>0.513572</td>\n",
              "      <td>0.484470</td>\n",
              "      <td>0.002078</td>\n",
              "    </tr>\n",
              "    <tr>\n",
              "      <th>Total_error</th>\n",
              "      <td>8.387684</td>\n",
              "      <td>5.223561</td>\n",
              "      <td>0.219928</td>\n",
              "    </tr>\n",
              "  </tbody>\n",
              "</table>\n",
              "</div>\n",
              "      <button class=\"colab-df-convert\" onclick=\"convertToInteractive('df-6297c52b-0b50-4ddf-a3e6-7705f4d5d622')\"\n",
              "              title=\"Convert this dataframe to an interactive table.\"\n",
              "              style=\"display:none;\">\n",
              "        \n",
              "  <svg xmlns=\"http://www.w3.org/2000/svg\" height=\"24px\"viewBox=\"0 0 24 24\"\n",
              "       width=\"24px\">\n",
              "    <path d=\"M0 0h24v24H0V0z\" fill=\"none\"/>\n",
              "    <path d=\"M18.56 5.44l.94 2.06.94-2.06 2.06-.94-2.06-.94-.94-2.06-.94 2.06-2.06.94zm-11 1L8.5 8.5l.94-2.06 2.06-.94-2.06-.94L8.5 2.5l-.94 2.06-2.06.94zm10 10l.94 2.06.94-2.06 2.06-.94-2.06-.94-.94-2.06-.94 2.06-2.06.94z\"/><path d=\"M17.41 7.96l-1.37-1.37c-.4-.4-.92-.59-1.43-.59-.52 0-1.04.2-1.43.59L10.3 9.45l-7.72 7.72c-.78.78-.78 2.05 0 2.83L4 21.41c.39.39.9.59 1.41.59.51 0 1.02-.2 1.41-.59l7.78-7.78 2.81-2.81c.8-.78.8-2.07 0-2.86zM5.41 20L4 18.59l7.72-7.72 1.47 1.35L5.41 20z\"/>\n",
              "  </svg>\n",
              "      </button>\n",
              "      \n",
              "  <style>\n",
              "    .colab-df-container {\n",
              "      display:flex;\n",
              "      flex-wrap:wrap;\n",
              "      gap: 12px;\n",
              "    }\n",
              "\n",
              "    .colab-df-convert {\n",
              "      background-color: #E8F0FE;\n",
              "      border: none;\n",
              "      border-radius: 50%;\n",
              "      cursor: pointer;\n",
              "      display: none;\n",
              "      fill: #1967D2;\n",
              "      height: 32px;\n",
              "      padding: 0 0 0 0;\n",
              "      width: 32px;\n",
              "    }\n",
              "\n",
              "    .colab-df-convert:hover {\n",
              "      background-color: #E2EBFA;\n",
              "      box-shadow: 0px 1px 2px rgba(60, 64, 67, 0.3), 0px 1px 3px 1px rgba(60, 64, 67, 0.15);\n",
              "      fill: #174EA6;\n",
              "    }\n",
              "\n",
              "    [theme=dark] .colab-df-convert {\n",
              "      background-color: #3B4455;\n",
              "      fill: #D2E3FC;\n",
              "    }\n",
              "\n",
              "    [theme=dark] .colab-df-convert:hover {\n",
              "      background-color: #434B5C;\n",
              "      box-shadow: 0px 1px 3px 1px rgba(0, 0, 0, 0.15);\n",
              "      filter: drop-shadow(0px 1px 2px rgba(0, 0, 0, 0.3));\n",
              "      fill: #FFFFFF;\n",
              "    }\n",
              "  </style>\n",
              "\n",
              "      <script>\n",
              "        const buttonEl =\n",
              "          document.querySelector('#df-6297c52b-0b50-4ddf-a3e6-7705f4d5d622 button.colab-df-convert');\n",
              "        buttonEl.style.display =\n",
              "          google.colab.kernel.accessAllowed ? 'block' : 'none';\n",
              "\n",
              "        async function convertToInteractive(key) {\n",
              "          const element = document.querySelector('#df-6297c52b-0b50-4ddf-a3e6-7705f4d5d622');\n",
              "          const dataTable =\n",
              "            await google.colab.kernel.invokeFunction('convertToInteractive',\n",
              "                                                     [key], {});\n",
              "          if (!dataTable) return;\n",
              "\n",
              "          const docLinkHtml = 'Like what you see? Visit the ' +\n",
              "            '<a target=\"_blank\" href=https://colab.research.google.com/notebooks/data_table.ipynb>data table notebook</a>'\n",
              "            + ' to learn more about interactive tables.';\n",
              "          element.innerHTML = '';\n",
              "          dataTable['output_type'] = 'display_data';\n",
              "          await google.colab.output.renderOutput(dataTable, element);\n",
              "          const docLink = document.createElement('div');\n",
              "          docLink.innerHTML = docLinkHtml;\n",
              "          element.appendChild(docLink);\n",
              "        }\n",
              "      </script>\n",
              "    </div>\n",
              "  </div>\n",
              "  "
            ]
          },
          "metadata": {},
          "execution_count": 5
        }
      ]
    },
    {
      "cell_type": "markdown",
      "metadata": {
        "id": "YnMpPQUUrK7W"
      },
      "source": [
        "**Observaciones:**\n",
        "\n",
        "Como es de esperar, se obtienen errores más pequeños conforme disminuye el tamaño de paso para cada uno de los métodos. Al analizar los resultados de la tabla, se visualiza que, con el **método central** se obtienen errores mucho menores para cada tamaño de paso y la sumatoria total la menor, lo que implica una mejor aproximación que los demás métodos y por lo tanto se selecciona como el mejor método para este problema. El error total ha sido calculado de la siguiente manera: $\\sum_{i=1}^{j}f'(x) - diff(x, h_i)$ y $\\sum_{i=1}^{j}f''(x) - diff(x, h_i)$ siendo $diff$ el método de diferenciación seleccionado, $j$ el número total de tamaños de paso (tres en este caso) y $h_i$ el tamaño de paso seleccionado en esa iteración."
      ]
    },
    {
      "cell_type": "markdown",
      "metadata": {
        "id": "qS6JAlTEIghh"
      },
      "source": [
        "**Bibliografía:**\n",
        "\n",
        "Nieves A. Métodos numéricos: aplicados a la ingeniería. Grupo Editorial Patria edición N°5. 2010\n",
        "\n",
        "José de la Fuente. Ingeniería de los Algoritmos y Métodos Numéricos. Grupo Editorial Círculo Rojo. 2017"
      ]
    }
  ]
}