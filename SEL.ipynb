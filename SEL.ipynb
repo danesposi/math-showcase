{
  "nbformat": 4,
  "nbformat_minor": 0,
  "metadata": {
    "colab": {
      "provenance": []
    },
    "kernelspec": {
      "name": "python3",
      "display_name": "Python 3"
    },
    "language_info": {
      "name": "python"
    }
  },
  "cells": [
    {
      "cell_type": "code",
      "metadata": {
        "id": "JvMuozXY0MbS"
      },
      "source": [
        "import numpy as np\n",
        "# importar librería numpy con diminutivo np para ser llamada como tal\n",
        "\n",
        "np.random.seed(42)\n",
        "# Establecer semilla de valores aleatorios para reproducibilidad del experimiento\n",
        "\n",
        "n = 10\n",
        "# Declarar variable n con valor entero 10\n",
        "\n",
        "A = np.random.rand(n, n)\n",
        "# Generar matriz n x n (10 x 10 en este caso) con 100 números tipo float64 seleccionados aleatoriamente entre 0 y 1\n",
        "\n",
        "b = np.random.rand(n)\n",
        "# Generar vector con n (10 en este caso) números tipo float64 seleccionados aleatoriamente entre 0 y 1\n",
        "\n",
        "alpha = 3 * n\n",
        "# Declarar variable alpha el cual es n multiplicado por 3 (10 * 3 = 30)\n",
        "\n",
        "ADD = np.dot(A, A.T) + alpha*np.identity(n)\n",
        "# Se calcula el producto punto entre matriz A(10x10) y la misma traspuesta A(10x10), luego se le suma la matriz identidad 10x10 con número n (30) en la diagonal"
      ],
      "execution_count": 35,
      "outputs": []
    },
    {
      "cell_type": "markdown",
      "metadata": {
        "id": "75Y2yyDo0blB"
      },
      "source": [
        "### Determinar si tiene solución"
      ]
    },
    {
      "cell_type": "code",
      "metadata": {
        "colab": {
          "base_uri": "https://localhost:8080/"
        },
        "id": "OcV3kCQI0oe7",
        "outputId": "66b9f982-e609-4e67-a195-ae2b974c8b9e"
      },
      "source": [
        "# Resolver sistema de ecuaciones mediante inversa\n",
        "A_invertida = np.linalg.inv(A) # calcular inversa de la matriz\n",
        "x = A_invertida.dot(b) # calcular producto punto entre la inversa de la matriz y b\n",
        "x"
      ],
      "execution_count": 36,
      "outputs": [
        {
          "output_type": "execute_result",
          "data": {
            "text/plain": [
              "array([-1.01269542, -1.4383189 ,  1.92334288,  1.216233  , -2.05633017,\n",
              "        0.75820865,  1.64963394, -1.47380018,  1.50250928,  0.17271319])"
            ]
          },
          "metadata": {},
          "execution_count": 36
        }
      ]
    },
    {
      "cell_type": "code",
      "metadata": {
        "colab": {
          "base_uri": "https://localhost:8080/",
          "height": 220
        },
        "id": "mCzh_JZX1S1l",
        "outputId": "f2428b0a-c109-4823-8be7-e05c0a54c660"
      },
      "source": [
        "from sympy import Matrix\n",
        "# Importar funciones para llevar a matriz a forma escalonada\n",
        "\n",
        "AB = np.hstack((A, b.reshape(-1, 1)))\n",
        "\n",
        "# Unir matriz A con vector b\n",
        "\n",
        "Matrix(AB).rref()[0]\n",
        "\n",
        "# Ejectuar función para llevar matriz aumentada a forma escalonada"
      ],
      "execution_count": 37,
      "outputs": [
        {
          "output_type": "execute_result",
          "data": {
            "text/plain": [
              "Matrix([\n",
              "[1, 0, 0, 0, 0, 0, 0, 0, 0, 0, -1.01269541994548],\n",
              "[0, 1, 0, 0, 0, 0, 0, 0, 0, 0, -1.43831889895842],\n",
              "[0, 0, 1, 0, 0, 0, 0, 0, 0, 0,  1.92334288411744],\n",
              "[0, 0, 0, 1, 0, 0, 0, 0, 0, 0,  1.21623300253163],\n",
              "[0, 0, 0, 0, 1, 0, 0, 0, 0, 0, -2.05633017203589],\n",
              "[0, 0, 0, 0, 0, 1, 0, 0, 0, 0, 0.758208649758787],\n",
              "[0, 0, 0, 0, 0, 0, 1, 0, 0, 0,  1.64963393527419],\n",
              "[0, 0, 0, 0, 0, 0, 0, 1, 0, 0,   -1.473800176856],\n",
              "[0, 0, 0, 0, 0, 0, 0, 0, 1, 0,  1.50250928376643],\n",
              "[0, 0, 0, 0, 0, 0, 0, 0, 0, 1, 0.172713191310692]])"
            ],
            "text/latex": "$\\displaystyle \\left[\\begin{array}{ccccccccccc}1 & 0 & 0 & 0 & 0 & 0 & 0 & 0 & 0 & 0 & -1.01269541994548\\\\0 & 1 & 0 & 0 & 0 & 0 & 0 & 0 & 0 & 0 & -1.43831889895842\\\\0 & 0 & 1 & 0 & 0 & 0 & 0 & 0 & 0 & 0 & 1.92334288411744\\\\0 & 0 & 0 & 1 & 0 & 0 & 0 & 0 & 0 & 0 & 1.21623300253163\\\\0 & 0 & 0 & 0 & 1 & 0 & 0 & 0 & 0 & 0 & -2.05633017203589\\\\0 & 0 & 0 & 0 & 0 & 1 & 0 & 0 & 0 & 0 & 0.758208649758787\\\\0 & 0 & 0 & 0 & 0 & 0 & 1 & 0 & 0 & 0 & 1.64963393527419\\\\0 & 0 & 0 & 0 & 0 & 0 & 0 & 1 & 0 & 0 & -1.473800176856\\\\0 & 0 & 0 & 0 & 0 & 0 & 0 & 0 & 1 & 0 & 1.50250928376643\\\\0 & 0 & 0 & 0 & 0 & 0 & 0 & 0 & 0 & 1 & 0.172713191310692\\end{array}\\right]$"
          },
          "metadata": {},
          "execution_count": 37
        }
      ]
    },
    {
      "cell_type": "markdown",
      "metadata": {
        "id": "5s8JTuty2h8x"
      },
      "source": [
        "Se evidencia que el sistema de ecuaciones lineales sí tiene solución, y la solución además es única porque la matriz aumentada Ab sí puede llevarse a forma completamente escalonada"
      ]
    },
    {
      "cell_type": "code",
      "metadata": {
        "id": "prp1N0pm1M10"
      },
      "source": [
        "def es_diagonalmente_dominante(A):\n",
        "    A = np.abs(np.asarray(A))  # Convertir a array numpy\n",
        "    diagonales = np.diag(A)  # tomar diagonales\n",
        "    filas = A - np.diag(diagonales)  # Matriz A con 0 por la diagonal\n",
        "    return np.all(diagonales >= filas.sum(axis=1)) # Calcular si todos los elementos de la diagonal son mayoreso igual que la suma de las filas excluyendo la diagonal"
      ],
      "execution_count": 38,
      "outputs": []
    },
    {
      "cell_type": "code",
      "metadata": {
        "colab": {
          "base_uri": "https://localhost:8080/"
        },
        "id": "q4NdvbsJrEU_",
        "outputId": "1fedb2b8-79ea-4b02-c85c-c7b16c1f3768"
      },
      "source": [
        "es_diagonalmente_dominante(A)"
      ],
      "execution_count": 39,
      "outputs": [
        {
          "output_type": "execute_result",
          "data": {
            "text/plain": [
              "False"
            ]
          },
          "metadata": {},
          "execution_count": 39
        }
      ]
    },
    {
      "cell_type": "markdown",
      "metadata": {
        "id": "Pbuu84OPBF9j"
      },
      "source": [
        "Dado que la matriz no es diagonalmente dominante se concluye que ningún método seleccionado a continuación podrá converger, sin embargo, para efectos de convergencia y visualización del ejercicio se selecciona arbitrariamente una matriz diagonalmente dominante"
      ]
    },
    {
      "cell_type": "code",
      "metadata": {
        "colab": {
          "base_uri": "https://localhost:8080/"
        },
        "id": "XEuKlkwhqLNb",
        "outputId": "79a9da85-e425-4b86-a55a-0f27bf5afa14"
      },
      "source": [
        "A_2 = [[4, 1, 2],[3, 5, 1],[1, 1, 3]]\n",
        "b_2 = [4,7,3]\n",
        "\n",
        "es_diagonalmente_dominante(A_2)"
      ],
      "execution_count": 40,
      "outputs": [
        {
          "output_type": "execute_result",
          "data": {
            "text/plain": [
              "True"
            ]
          },
          "metadata": {},
          "execution_count": 40
        }
      ]
    },
    {
      "cell_type": "markdown",
      "metadata": {
        "id": "27VyEtfk50oz"
      },
      "source": [
        "Solución de SEL por Gauss - Seidel, Jacobi y S.O.R"
      ]
    },
    {
      "cell_type": "code",
      "metadata": {
        "id": "yHUOHYxb1oke"
      },
      "source": [
        "def seidel(A, b, x):     \n",
        "    n = len(A)\n",
        "    for j in range(0, n):        \n",
        "        # variable temporal para guardar b[j]\n",
        "        d = b[j]                  \n",
        "          \n",
        "        # calcular x_i, y_i, z_i respectivamente\n",
        "        for i in range(0, n):     \n",
        "            if j != i:\n",
        "                d-=A[j][i] * x[i]\n",
        "        # actualizar valor para la solución        \n",
        "        x[j] = d / A[j][j]\n",
        "    # retornar solución aproximada          \n",
        "    return x\n",
        "\n",
        "def jacobi(A, b, x):\n",
        "    D = np.diag(A)\n",
        "    # Obtener diagonal de A \n",
        "    R = A - np.diagflat(D)\n",
        "    # Obtener valor R para obtener producto punto con x y actualizar aproximación\n",
        "    x = (b - np.dot(R,x))/D\n",
        "    # actualizar valor para solución\n",
        "    return x\n",
        "\n",
        "def sor(A, b, x):\n",
        "    omega = 0.5\n",
        "    # factor de relajación\n",
        "    for i in range(A.shape[0]):\n",
        "        sigma = 0\n",
        "        for j in range(A.shape[1]):\n",
        "            if j != i:\n",
        "                sigma += A[i][j] * x[j]\n",
        "                # Valor sigma para actualizar valor en x\n",
        "        x[i] = (1 - omega) * x[i] + (omega / A[i][i]) * (b[i] - sigma)\n",
        "        # actualizar valor de x\n",
        "    return x\n",
        "\n",
        "def obtener_error(func, A, b):\n",
        "    errores = []\n",
        "    # Iniciar lista para almacenar errores\n",
        "    x = [0, 0, 0]\n",
        "    # Valor x inicial\n",
        "    tolerancia = 10**-16\n",
        "    error = np.linalg.norm(np.matmul(A, x) - b)\n",
        "    # Primer error\n",
        "    for n in range(100):\n",
        "        # Hasta un máximo de 100 iteraciones\n",
        "        if not error < tolerancia:\n",
        "            # Si el error no es menor que la tolerancia\n",
        "            x = func(A, b, x)\n",
        "            # obtener primer resultado\n",
        "            error = np.linalg.norm(np.matmul(A, x) - b)\n",
        "            errores.append(error)\n",
        "            # insertar error en lista para almacenar errores\n",
        "        else:\n",
        "            break\n",
        "    return errores"
      ],
      "execution_count": 41,
      "outputs": []
    },
    {
      "cell_type": "code",
      "metadata": {
        "colab": {
          "base_uri": "https://localhost:8080/",
          "height": 471
        },
        "id": "hFMGB2Vy3rVO",
        "outputId": "19713067-05c5-456c-a5ac-4a26baeb625d"
      },
      "source": [
        "import matplotlib.pyplot as plt\n",
        "figure, ax = plt.subplots(figsize=(15, 7))\n",
        "\n",
        "error_seidel = obtener_error(seidel, A_2, b_2)\n",
        "error_jacobi = obtener_error(jacobi, A_2, b_2)\n",
        "error_sor = obtener_error(sor, np.array(A_2), b_2)\n",
        "\n",
        "conv_seidel = len(error_seidel)\n",
        "conv_jacobi = len(error_jacobi)\n",
        "conv_sor = len(error_sor)\n",
        "\n",
        "ax.plot(error_seidel, \"g\", label=\"Seidel\")\n",
        "ax.plot(error_jacobi, \"r\", label=\"Jacobi\")\n",
        "ax.plot(error_sor, \"b\", label=\"S.O.R\")\n",
        "\n",
        "ax.text(conv_seidel, 1,  f'Convergencia Seidel n={conv_seidel}', color='green', ha=\"center\", fontsize=10, va=\"center\",\n",
        "        bbox=dict(facecolor='none', edgecolor=\"green\", pad=5.0))\n",
        "\n",
        "ax.text(conv_jacobi, 2,  f'Convergencia Jacobi n={conv_jacobi}', color='red', ha=\"center\", fontsize=10, va=\"center\",\n",
        "        bbox=dict(facecolor='none', edgecolor=\"red\", pad=5.0))\n",
        "\n",
        "ax.text(conv_sor, 1,  f'Convergencia S.O.R n={conv_sor}', color='blue', ha=\"center\", fontsize=10, va=\"center\",\n",
        "        bbox=dict(facecolor='none', edgecolor=\"blue\", pad=5.0))\n",
        "\n",
        "plt.grid()\n",
        "plt.legend()\n",
        "plt.xlabel(\"n_iter\", fontsize=15)\n",
        "plt.title(\"Convergencia métodos iterativos\", fontsize=20)\n",
        "plt.show()"
      ],
      "execution_count": 42,
      "outputs": [
        {
          "output_type": "display_data",
          "data": {
            "text/plain": [
              "<Figure size 1080x504 with 1 Axes>"
            ],
            "image/png": "[encoded data removed]"
          },
          "metadata": {
            "needs_background": "light"
          }
        }
      ]
    },
    {
      "cell_type": "markdown",
      "metadata": {
        "id": "l3Q8sQbHALCC"
      },
      "source": [
        "Como puede observarse en la gráfica, el método que proporciona la solución más aceptable para la matriz diagonalmente dominante seleccionada arbitrariamente es el método de Gauss - Seidel, dado que converge en un menor número de iteraciones. Cabe mencionar que, el método de S.O.R podría converger en menores iteraciones si se ajusta el parámetro $\\omega$ adecuadamente."
      ]
    }
  ]
}