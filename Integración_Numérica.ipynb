{
  "nbformat": 4,
  "nbformat_minor": 0,
  "metadata": {
    "colab": {
      "provenance": []
    },
    "kernelspec": {
      "name": "python3",
      "display_name": "Python 3"
    },
    "language_info": {
      "name": "python"
    }
  },
  "cells": [
    {
      "cell_type": "code",
      "metadata": {
        "id": "YbGfgPbsO1jo"
      },
      "source": [
        "import numpy as np\n",
        "import pandas as pd\n",
        "from scipy.integrate import quadrature"
      ],
      "execution_count": 1,
      "outputs": []
    },
    {
      "cell_type": "code",
      "metadata": {
        "id": "fTBdHeXLLJqE"
      },
      "source": [
        "a = 0 # Rango inferior\n",
        "b = 1 # Rango superior\n",
        "f_a = lambda x: (x**2)*np.cos(x) # Función\n",
        "f_a = lambda x: np.exp((x**2) + 1)"
      ],
      "execution_count": 2,
      "outputs": []
    },
    {
      "cell_type": "markdown",
      "metadata": {
        "id": "0yVkPHLPLQXB"
      },
      "source": [
        "Integral: $\\int_{-1}^{1}x^2cos(x)dx$\n",
        "\n",
        "Rango inferior: $-1$\n",
        "\n",
        "Rando superior: $1$\n"
      ]
    },
    {
      "cell_type": "markdown",
      "metadata": {
        "id": "PUtm4XLbLAl0"
      },
      "source": [
        "## Métodos de Integración Numérica"
      ]
    },
    {
      "cell_type": "markdown",
      "metadata": {
        "id": "h9D5wxVy8IRV"
      },
      "source": [
        "###Regla de Trapecio"
      ]
    },
    {
      "cell_type": "markdown",
      "metadata": {
        "id": "E8F1lL7kdgvZ"
      },
      "source": [
        "Teoría:\n",
        "\n",
        "Según Hostetler E. (2005) \"La **regla de trapecio** simple se basa en aproximar el valor de la integral de $f(x)$ por el de la función lineal que pasa a través de los puntos $(a, f(a))$ y $(b, f(b))$. La integral de ésta es igual al área del trapecio bajo la gráfica de la función lineal.\"\n",
        "\n",
        "Sostiene también que la **regla del trapecio compuesto** es \"una forma de aproximar una integral definida utilizando n trapecios. En la formulación de este método se supone que f es continua y positiva en el intervalo [a,b].\n",
        "De tal modo la integral definida $\\int_{a}^{b}f(x)dx$ representa el área de la región delimitada por la gráfica de $f$ y el eje $x$, desde $x=a$ hasta $x=b$. Primero se divide el intervalo [a,b] en n subintervalos, cada uno de ancho $\\Delta x=(b-a)/n$\""
      ]
    },
    {
      "cell_type": "markdown",
      "metadata": {
        "id": "Jj-PZicB5EJC"
      },
      "source": [
        "Simple"
      ]
    },
    {
      "cell_type": "code",
      "metadata": {
        "colab": {
          "base_uri": "https://localhost:8080/"
        },
        "id": "pOJbBKCR5HHl",
        "outputId": "ddb23e7d-3631-4f47-fb27-e0f64423dd15"
      },
      "source": [
        "# función para calcular regla de trapecios simple\n",
        "def regla_trapecios_simple():\n",
        "    y_a = f_a(a)\n",
        "    y_b = f_a(b)\n",
        "    trapecio = ((y_a + y_b) / 2) * (b-a)\n",
        "    return trapecio\n",
        "\n",
        "print(f\"Regla de Trapecios Simple: --- {regla_trapecios_simple()}\")"
      ],
      "execution_count": 3,
      "outputs": [
        {
          "output_type": "stream",
          "name": "stdout",
          "text": [
            "Regla de Trapecios Simple: --- 5.0536689636948475\n"
          ]
        }
      ]
    },
    {
      "cell_type": "markdown",
      "metadata": {
        "id": "Y6-pDXdAAzhv"
      },
      "source": [
        "$\\displaystyle \\int_{a}^{b} f(x)dx \\approx \\frac{f(a) + f(b)}{2}(b-a)$"
      ]
    },
    {
      "cell_type": "markdown",
      "metadata": {
        "id": "WV5VXrJ78OMm"
      },
      "source": [
        "Compuesta"
      ]
    },
    {
      "cell_type": "code",
      "metadata": {
        "colab": {
          "base_uri": "https://localhost:8080/"
        },
        "id": "KdOH3M6W9iux",
        "outputId": "06e8e939-96c8-4931-ca64-08fd990c75a8"
      },
      "source": [
        "# Función para calcular regla de trapecio compuesta\n",
        "def regla_trapecios_compuesta(n):\n",
        "    h = (b - a) / (n)\n",
        "    x = np.linspace(a, b ,n)\n",
        "    y = f_a(x)\n",
        "    trapecios = (h/2)*(y[0] + 2 * sum(y[1:n-1]) + y[n-1])\n",
        "    return trapecios\n",
        "\n",
        "\n",
        "print(f\"Regla de Trapecios compuesta n = 10: --- {regla_trapecios_compuesta(10)}\")\n",
        "print(f\"Regla de Trapecios compuesta n = 16: --- {regla_trapecios_compuesta(16)}\")"
      ],
      "execution_count": 4,
      "outputs": [
        {
          "output_type": "stream",
          "name": "stdout",
          "text": [
            "Regla de Trapecios compuesta n = 10: --- 3.5919651063184745\n",
            "Regla de Trapecios compuesta n = 16: --- 3.7325334276348174\n"
          ]
        }
      ]
    },
    {
      "cell_type": "markdown",
      "metadata": {
        "id": "qb1kmwl4Bg3-"
      },
      "source": [
        "$\\displaystyle \\int_{a}^{b} f(x)dx \\approx \\frac{h}{2}f(x_0) + 2(\\sum_{i=1}^{n-1}f(x_i)) + f(x_{n-1}))$"
      ]
    },
    {
      "cell_type": "markdown",
      "metadata": {
        "id": "9yT-adhS-lK2"
      },
      "source": [
        "### Regla de Simpson 1/3"
      ]
    },
    {
      "cell_type": "markdown",
      "metadata": {
        "id": "RawjgfJagMZx"
      },
      "source": [
        "Teoría:\n",
        "\n",
        "Según Becerra (2008)  El método de integración **Regla de Simpson 1/3** es un \"método para calcular integrales definidas donde se conectan grupos sucesivos de tres puntos sobre la curva mediante parábolas de segundo grado. A las fórmulas que resultan de calcular la integral bajo estos polinomios se les llama Reglas de Simpson.\"\n",
        "\n",
        "Sobre la **Regla de Simpson 1/3 compuesta** añade Sankara (2007) que \"en el caso de que el intervalo $[a,b]$ no sea lo suficientemente pequeño, el error al calcular la integral puede ser muy grande. Para ello, se recurre a la fórmula compuesta de Simpson. Se divide el intervalo $[a,b]$ en $n$ subintervalos iguales (con $n$ par), de manera que $x_i=a+ih$ donde $h=\\frac{(b-a)}{n}$ para $i=0,1...,n$."
      ]
    },
    {
      "cell_type": "markdown",
      "metadata": {
        "id": "93oAq-P6A3MP"
      },
      "source": [
        "Simple"
      ]
    },
    {
      "cell_type": "code",
      "metadata": {
        "colab": {
          "base_uri": "https://localhost:8080/"
        },
        "id": "T-wx0V2tA_2f",
        "outputId": "9e2c2485-f7b8-4b0a-8433-d4baa177f1df"
      },
      "source": [
        "# función para calcular regla de Simpson 1/3\n",
        "\n",
        "def regla_simpson_1_3_simple():\n",
        "    h = (b - a) / 2\n",
        "    x = np.linspace(a, b ,3)\n",
        "    y = f_a(x)\n",
        "    simpson = (h/3) * (y[0] + 4*y[1] + y[2])\n",
        "    return simpson\n",
        "\n",
        "\n",
        "\n",
        "print(f\"Regla de Simpson 1/3 simple: --- {regla_simpson_1_3_simple()}\")"
      ],
      "execution_count": 5,
      "outputs": [
        {
          "output_type": "stream",
          "name": "stdout",
          "text": [
            "Regla de Simpson 1/3 simple: --- 4.011451626206176\n"
          ]
        }
      ]
    },
    {
      "cell_type": "markdown",
      "metadata": {
        "id": "EL1hOfsCFZKF"
      },
      "source": [
        "$\\displaystyle \\int_{a}^{b} f(x)dx \\approx \\frac{h}{3}f(x_1) + 4f(x_2) + f(x_3)$"
      ]
    },
    {
      "cell_type": "markdown",
      "metadata": {
        "id": "oMFhEpPP-rD9"
      },
      "source": [
        "Compuesta"
      ]
    },
    {
      "cell_type": "code",
      "metadata": {
        "colab": {
          "base_uri": "https://localhost:8080/"
        },
        "id": "WX2fjtWr-s8v",
        "outputId": "fce8cc7b-c63f-4fd5-e54e-501c34f5dd22"
      },
      "source": [
        "# función para calcular regla de Simpson 1/3 compuesta\n",
        "def regla_simpson_1_3_compuesta(n):\n",
        "    h = (b - a) / (n - 1)\n",
        "    x = np.linspace(a, b ,n)\n",
        "    y = f_a(x)\n",
        "    simpson = (h/3) * (y[0] + 2*sum(y[:n-2:2]) + 4*sum(y[1:n-1:2]) + y[n-1])\n",
        "    return simpson\n",
        "\n",
        "\n",
        "\n",
        "print(f\"Regla de Simpson 1/3 compuesta n = 10: --- {regla_simpson_1_3_compuesta(10)}\")\n",
        "print(f\"Regla de Simpson 1/3 compuesta n = 16: --- {regla_simpson_1_3_compuesta(3)}\")"
      ],
      "execution_count": 6,
      "outputs": [
        {
          "output_type": "stream",
          "name": "stdout",
          "text": [
            "Regla de Simpson 1/3 compuesta n = 10: --- 3.490090220837606\n",
            "Regla de Simpson 1/3 compuesta n = 16: --- 4.917545569025859\n"
          ]
        }
      ]
    },
    {
      "cell_type": "markdown",
      "metadata": {
        "id": "d0mOo8yaGp9a"
      },
      "source": [
        "$\\displaystyle \\int_{x_{i-1}}^{x{+1}} f(x)dx \\approx \\frac{h}{3} (f(x_i−1)+4f(x_i)+f(x_i+1))$"
      ]
    },
    {
      "cell_type": "markdown",
      "metadata": {
        "id": "ArhIVYuv9Yhq"
      },
      "source": [
        "### Regla de Simpson 3/8"
      ]
    },
    {
      "cell_type": "markdown",
      "metadata": {
        "id": "jk8lBAMpmGE7"
      },
      "source": [
        "Teoría:\n",
        "\n",
        "Afirma Becerra (2008) que el método de integración **Regla de Simpson 3/8** \"es una generalización de la regla de trapecio para obtener una mejor aproximación de la integral y consiste en subdividir el intervalo $[a,b]$ en $n$ subintervalos, todos de la misma longitud $\\displaystyle h=\\frac{b−a}\n",
        "{n}$. Cuando el número de subdivisiones que se haga sea igual a tres, entonces el método recibe el nombre de la regla de Simpson 3/8. En la Regla de Simpson 3/8 compuesta, el número de subintervalos n solo puede ser un múltiplo de 3, en caso contrario no es posible aplicar la regla.\"\n",
        "\n",
        "Según Sankara (2007) La **Regla de Simpson 3/8 simple**, en cambio, \"es muy similar a la regla de Simpson clásica pero se usa polinomios de Lagrange de tercer orden. Se tiene en consideración que ahora el paso $\\displaystyle h=\\frac {(b-a)}{3}$\""
      ]
    },
    {
      "cell_type": "markdown",
      "metadata": {
        "id": "t94T_WgbIDoP"
      },
      "source": [
        "Simple"
      ]
    },
    {
      "cell_type": "code",
      "metadata": {
        "colab": {
          "base_uri": "https://localhost:8080/"
        },
        "id": "04k5mQQHIEl1",
        "outputId": "cbb36378-20a0-46a5-9713-4cd95f6cfef9"
      },
      "source": [
        "# función para calcular regla de Simpson 3/8 simple\n",
        "\n",
        "def regla_simpson_3_8_simple():\n",
        "    h = (b - a) / 3\n",
        "    x = np.linspace(a, b ,3)\n",
        "    y = f_a(x)\n",
        "    intervalo_1 = 3 * f_a(((2*a) + b)/3)\n",
        "    intervalo_2 = 3 * f_a(((2*b) + a)/3)\n",
        "    simpson = ((3*h/8)) * (y[0] + 3*intervalo_1 + 3*intervalo_2 + y[-1])\n",
        "    return simpson\n",
        "\n",
        "\n",
        "\n",
        "print(f\"Regla de Simpson 3/8 simple: --- {regla_simpson_3_8_simple()}\")"
      ],
      "execution_count": 7,
      "outputs": [
        {
          "output_type": "stream",
          "name": "stdout",
          "text": [
            "Regla de Simpson 3/8 simple: --- 9.450298730010912\n"
          ]
        }
      ]
    },
    {
      "cell_type": "markdown",
      "metadata": {
        "id": "TyJTJtRW9gVN"
      },
      "source": [
        "Compuesta"
      ]
    },
    {
      "cell_type": "code",
      "metadata": {
        "colab": {
          "base_uri": "https://localhost:8080/"
        },
        "id": "ylTsNmBM9cau",
        "outputId": "5f6cab6c-74f3-410d-d684-2846bb0286ac"
      },
      "source": [
        "# función para calcular regla de Simpson 3/8 compuesta\n",
        "def regla_simpson_3_8_compuesta(n):\n",
        "    h = (b - a) / (n - 1)\n",
        "    x = np.linspace(a, b ,n)\n",
        "    y = f_a(x)\n",
        "    simpson = ((3/8) * h) * (y[0] + 3*sum(y[:n-2:2]) + 3*sum(y[1:n-1:2]) + y[n-1])\n",
        "    return simpson\n",
        "\n",
        "\n",
        "\n",
        "print(f\"Regla de Simpson 3/8 compuesta n = 10: --- {regla_simpson_3_8_compuesta(10)}\")\n",
        "print(f\"Regla de Simpson 3/8 compuesta n = 16: --- {regla_simpson_3_8_compuesta(16)}\")"
      ],
      "execution_count": 8,
      "outputs": [
        {
          "output_type": "stream",
          "name": "stdout",
          "text": [
            "Regla de Simpson 3/8 compuesta n = 10: --- 3.8703980774758424\n",
            "Regla de Simpson 3/8 compuesta n = 16: --- 4.06940630439535\n"
          ]
        }
      ]
    },
    {
      "cell_type": "markdown",
      "metadata": {
        "id": "nhGbN5myJtBt"
      },
      "source": [
        "$\\displaystyle \\int_{a}^{b} f(x)dx \\approx \\frac{3}{8}hf(a) + 3f(x_2) + f(x_3)$"
      ]
    },
    {
      "cell_type": "markdown",
      "metadata": {
        "id": "-aYV3L_L_L5t"
      },
      "source": [
        "### Cuadratura de Gauss"
      ]
    },
    {
      "cell_type": "markdown",
      "metadata": {
        "id": "SFWGT1Y9sKnx"
      },
      "source": [
        "Teoría:\n",
        "\n",
        "\"la regla del trapecio se basa en\n",
        "obtener el área bajo la línea recta que une los valores de la función, en los extremos del intervalo de integración. Ahora, suponga que se elimina la restricción de los puntos fijos y se tuviera la libertad de evaluar el área bajo una línea recta que uniera dos puntos cualesquiera de la curva. Al ubicar esos puntos en forma inteligente, definiríamos una línea recta que\n",
        "equilibrara los errores negativo y positivo, la **Cuadratura de Gauss** es el nombre de una clase de técnicas para realizar tal estrategia\" Chapra (2010).\n",
        "\n",
        "\"la cuadratura de Gauss es determinar los coeficientes de una ecuación de la forma\n",
        "$\\displaystyle w_0f(x_0) + w_1f(x_1)$\n",
        "donde las $w=$  los coeficientes desconocidos. Sin embargo, a diferencia de la regla del\n",
        "trapecio que utiliza puntos extremos fijos $a$ y $b$, los argumentos de la función $x_0$ y $x_1$ no\n",
        "están fijos en los extremos, sino que son incógnitas. De esta manera, ahora se tienen cuatro incógnitas que deben evaluarse.\"\n",
        "\n",
        "\"Las ecuaciones pueden resolverse de la siguiente manera...\n",
        "\n",
        "$w_0 = w_1 = 1$\n",
        "\n",
        "$x_0 = -\\frac{1}{\\sqrt{3}}=-0.5773503$\n",
        "\n",
        "$x_1 = \\frac{1}{\\sqrt{3}}= 0.5773503$\n",
        "\n",
        "\n",
        "Que se sustituyen en la fórmula para obtener la ecuación de Gauss-Legendre de **dos puntos** $f(-\\frac{1}{\\sqrt{3}}) + f(\\frac{1}{\\sqrt{3}})$\"\n",
        "\n",
        "Aparte de la fórmula de dos puntos descrita en la sección anterior, se pueden desarrollar versiones con más puntos en la forma general\n",
        "$\\displaystyle w_0f(x_0) + w_1f(x_1) ... + w_{n-1}f(x_{n-1})$\n",
        "\n",
        "\"Así, llegamos al interesante resultado de que la simple suma de los valores de la función genera una estimación de la integral que tiene una exactitud de\n",
        "tercer grado.\" Chapra (2010)\n"
      ]
    },
    {
      "cell_type": "markdown",
      "metadata": {
        "id": "Yu_Cdo4dlDHX"
      },
      "source": [
        "Cuadratura 2 y 3 puntos"
      ]
    },
    {
      "cell_type": "code",
      "metadata": {
        "colab": {
          "base_uri": "https://localhost:8080/"
        },
        "id": "Zd30oT6dlALs",
        "outputId": "c7cbba9f-177e-4e7d-ddeb-6b86a5b25a82"
      },
      "source": [
        "# función para calcular cuadratura de Gauss\n",
        "def cuadratura_gauss(puntos):\n",
        "    # obtener pesos\n",
        "    x , w = np.polynomial.legendre.leggauss(puntos)\n",
        "    # sumatoria\n",
        "    gauss = sum(w * f_a(x))\n",
        "    return gauss\n",
        "\n",
        "print(f\"Cuadratura de Gauss para 2 puntos intervalos [-1 , 1] --- {cuadratura_gauss(2)}\")\n",
        "print(f\"Cuadratura de Gauss para 3 puntos intervalos [-1 , 1] --- {cuadratura_gauss(3)}\")"
      ],
      "execution_count": 9,
      "outputs": [
        {
          "output_type": "stream",
          "name": "stdout",
          "text": [
            "Cuadratura de Gauss para 2 puntos intervalos [-1 , 1] --- 7.587335789366355\n",
            "Cuadratura de Gauss para 3 puntos intervalos [-1 , 1] --- 7.9196198746248365\n"
          ]
        }
      ]
    },
    {
      "cell_type": "markdown",
      "metadata": {
        "id": "v9f_AdxjgXp1"
      },
      "source": [
        "Bibliografía:\n",
        "\n",
        "Hostetler Edwards. Larson: Calculo I (Octava edición). 2005\n",
        "\n",
        "Becerra, B. (2008).  Integración numérica. Algunas reglas básicas.\n",
        "\n",
        "Sankara (2007). Numerical Methods For Scientists And Engineers (en inglés) (3ª edición)\n",
        "\n",
        "Steve C. Chapra, Raymond P. Canale, Métodos numéricos para ingenieros, Edición N°5, 2010"
      ]
    }
  ]
}